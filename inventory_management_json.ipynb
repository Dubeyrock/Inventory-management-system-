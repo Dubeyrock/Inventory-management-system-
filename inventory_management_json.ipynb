{
  "nbformat": 4,
  "nbformat_minor": 0,
  "metadata": {
    "colab": {
      "provenance": [],
      "authorship_tag": "ABX9TyPIJExg7PYwRptVTOoKq2Cy",
      "include_colab_link": true
    },
    "kernelspec": {
      "name": "python3",
      "display_name": "Python 3"
    },
    "language_info": {
      "name": "python"
    }
  },
  "cells": [
    {
      "cell_type": "markdown",
      "metadata": {
        "id": "view-in-github",
        "colab_type": "text"
      },
      "source": [
        "<a href=\"https://colab.research.google.com/github/Dubeyrock/Inventory-management-system-/blob/main/inventory_management_json.ipynb\" target=\"_parent\"><img src=\"https://colab.research.google.com/assets/colab-badge.svg\" alt=\"Open In Colab\"/></a>"
      ]
    },
    {
      "cell_type": "code",
      "source": [
        "import json\n",
        "\n",
        "record = {1001: {'Name': \"5 Star\"         , \"Price\" : 10 , \"Qn\" : 200},\n",
        "          1002: {'Name': \"Bar-One\"        , \"Price\" : 20 , \"Qn\" : 100 },\n",
        "          1003: {'Name': \"Candy\"          , \"Price\" : 2  , \"Qn\" : 1000},\n",
        "          1004: {'Name': \"Chocolate Cake\" , \"Price\" : 550, \"Qn\" : 8 },\n",
        "          1005: {'Name': \"Blueberry Cake\" , \"Price\" : 650, \"Qn\" : 5 }}\n"
      ],
      "metadata": {
        "id": "urE6CBTLkx2I"
      },
      "execution_count": 13,
      "outputs": []
    },
    {
      "cell_type": "code",
      "source": [
        "record"
      ],
      "metadata": {
        "colab": {
          "base_uri": "https://localhost:8080/"
        },
        "id": "MKrW2MnhkJrw",
        "outputId": "f994cc4f-1620-4e92-ef50-9f810c6ad9df"
      },
      "execution_count": 14,
      "outputs": [
        {
          "output_type": "execute_result",
          "data": {
            "text/plain": [
              "{1001: {'Name': '5 Star', 'Price': 10, 'Qn': 200},\n",
              " 1002: {'Name': 'Bar-One', 'Price': 20, 'Qn': 100},\n",
              " 1003: {'Name': 'Candy', 'Price': 2, 'Qn': 1000},\n",
              " 1004: {'Name': 'Chocolate Cake', 'Price': 550, 'Qn': 8},\n",
              " 1005: {'Name': 'Blueberry Cake', 'Price': 650, 'Qn': 5}}"
            ]
          },
          "metadata": {},
          "execution_count": 14
        }
      ]
    },
    {
      "cell_type": "code",
      "source": [
        "print(record[1004][\"Name\"])\n",
        "print(record[1004][\"Price\"])\n",
        "print(record[1004][\"Qn\"])"
      ],
      "metadata": {
        "colab": {
          "base_uri": "https://localhost:8080/"
        },
        "id": "sSnL6LLUkMqg",
        "outputId": "4cc321e5-7cc3-453a-bfd3-eb9aab37c840"
      },
      "execution_count": 15,
      "outputs": [
        {
          "output_type": "stream",
          "name": "stdout",
          "text": [
            "Chocolate Cake\n",
            "550\n",
            "8\n"
          ]
        }
      ]
    },
    {
      "cell_type": "markdown",
      "source": [
        "Inventory Management System - Generating Bill\n"
      ],
      "metadata": {
        "id": "KtJ9lTQtlAka"
      }
    },
    {
      "cell_type": "code",
      "source": [
        "print(\"--------------------MENU---------------------\")\n",
        "for key in record.keys():\n",
        "    print(key, record[key]['Name'], record[key]['Price'], record[key]['Name'])\n",
        "print(\"---------------------------------------------\")\n",
        "print('')\n",
        "\n",
        "ui_pr = int(input(\"Enter product ID : \"))\n",
        "ui_qn = int(input(\"Enter Quantiry   : \"))\n",
        "\n",
        "print(\"--------------------BILL------------------------\")\n",
        "print('')\n",
        "\n",
        "print(\"Name      : \", record[ui_pr][\"Name\"])\n",
        "print(\"Price (Rs): \", record[ui_pr][\"Price\"])\n",
        "print(\"Quantity  : \", ui_qn)\n",
        "print(\"---------------------------------------------\")\n",
        "print(\"Billing   : \", ui_qn * record[ui_pr][\"Price\"], \"Rs\")\n",
        "print(\"---------------------------------------------\")"
      ],
      "metadata": {
        "colab": {
          "base_uri": "https://localhost:8080/"
        },
        "id": "GMqRC-zLlFDz",
        "outputId": "de246a8f-9653-4662-cfc6-ab4b7d5d5813"
      },
      "execution_count": 25,
      "outputs": [
        {
          "output_type": "stream",
          "name": "stdout",
          "text": [
            "--------------------MENU---------------------\n",
            "1001 5 Star 10 5 Star\n",
            "1002 Bar-One 20 Bar-One\n",
            "1003 Candy 2 Candy\n",
            "1004 Chocolate Cake 550 Chocolate Cake\n",
            "1005 Blueberry Cake 650 Blueberry Cake\n",
            "---------------------------------------------\n",
            "\n",
            "Enter product ID : 1004\n",
            "Enter Quantiry   : 4\n",
            "--------------------BILL------------------------\n",
            "\n",
            "Name      :  Chocolate Cake\n",
            "Price (Rs):  550\n",
            "Quantity  :  4\n",
            "---------------------------------------------\n",
            "Billing   :  2200 Rs\n",
            "---------------------------------------------\n"
          ]
        }
      ]
    },
    {
      "cell_type": "markdown",
      "source": [
        "Inventory Management System - Updating Inventory"
      ],
      "metadata": {
        "id": "vvvvceTXor6E"
      }
    },
    {
      "cell_type": "code",
      "source": [
        "print(\"--------------------MENU---------------------\")\n",
        "for key in record.keys():\n",
        "    print(key, record[key]['Name'], record[key]['Price'], record[key]['Name'])\n",
        "print(\"---------------------------------------------\")\n",
        "print('')\n",
        "\n",
        "ui_pr = int(input(\"Enter product ID : \"))\n",
        "ui_qn = int(input(\"Enter Quantiry   : \"))\n",
        "\n",
        "print(\"---------------------------------------------\")\n",
        "print('')\n",
        "\n",
        "print(\"Name      : \", record[ui_pr][\"Name\"])\n",
        "print(\"Price (Rs): \", record[ui_pr][\"Price\"])\n",
        "print(\"Quantity  : \", ui_qn)\n",
        "print(\"---------------------------------------------\")\n",
        "print(\"Billing   : \", ui_qn * record[ui_pr][\"Price\"], \"Rs\")\n",
        "print(\"---------------------------------------------\")\n",
        "\n",
        "record[ui_pr]['Qn'] = record[ui_pr]['Qn'] - ui_qn\n",
        "\n",
        "print('')\n",
        "print(\"---------------------------------------------\")\n",
        "print(\"  Thanks for your order, Inventory Updated!  \")\n",
        "print(\"---------------------------------------------\")"
      ],
      "metadata": {
        "colab": {
          "base_uri": "https://localhost:8080/"
        },
        "id": "5Dw6T-zdlAIc",
        "outputId": "a8642fae-710e-42f6-b011-68e4161ba0a3"
      },
      "execution_count": 26,
      "outputs": [
        {
          "output_type": "stream",
          "name": "stdout",
          "text": [
            "--------------------MENU---------------------\n",
            "1001 5 Star 10 5 Star\n",
            "1002 Bar-One 20 Bar-One\n",
            "1003 Candy 2 Candy\n",
            "1004 Chocolate Cake 550 Chocolate Cake\n",
            "1005 Blueberry Cake 650 Blueberry Cake\n",
            "---------------------------------------------\n",
            "\n",
            "Enter product ID : 1002\n",
            "Enter Quantiry   : 2\n",
            "---------------------------------------------\n",
            "\n",
            "Name      :  Bar-One\n",
            "Price (Rs):  20\n",
            "Quantity  :  2\n",
            "---------------------------------------------\n",
            "Billing   :  40 Rs\n",
            "---------------------------------------------\n",
            "\n",
            "---------------------------------------------\n",
            "  Thanks for your order, Inventory Updated!  \n",
            "---------------------------------------------\n"
          ]
        }
      ]
    },
    {
      "cell_type": "markdown",
      "source": [
        "Inventory Management System - Saving Record on JSON\n"
      ],
      "metadata": {
        "id": "ET7DkPA9pEjZ"
      }
    },
    {
      "cell_type": "code",
      "source": [
        "import json\n",
        "\n",
        "record = {1001: {'Name': \"5 Star\"         , \"Price\" : 10 , \"Qn\" : 200},\n",
        "          1002: {'Name': \"Bar-One\"        , \"Price\" : 20 , \"Qn\" : 100 },\n",
        "          1003: {'Name': \"Candy\"          , \"Price\" : 2  , \"Qn\" : 1000},\n",
        "          1004: {'Name': \"Chocolate Cake\" , \"Price\" : 550, \"Qn\" : 8 },\n",
        "          1005: {'Name': \"Blueberry Cake\" , \"Price\" : 650, \"Qn\" : 5 }}\n",
        "\n",
        "\n",
        "\n",
        "print(\"--------------------MENU---------------------\")\n",
        "for key in record.keys():\n",
        "    print(key, record[key]['Name'], record[key]['Price'], record[key]['Name'])\n",
        "print(\"---------------------------------------------\")\n",
        "print('')\n",
        "\n",
        "ui_pr = int(input(\"Enter product ID : \"))\n",
        "ui_qn = int(input(\"Enter Quantiry   : \"))\n",
        "\n",
        "print(\"---------------------------------------------\")\n",
        "print('')\n",
        "\n",
        "print(\"Name      : \", record[ui_pr][\"Name\"])\n",
        "print(\"Price (Rs): \", record[ui_pr][\"Price\"])\n",
        "print(\"Quantity  : \", ui_qn)\n",
        "print(\"---------------------------------------------\")\n",
        "print(\"Billing   : \", ui_qn * record[ui_pr][\"Price\"], \"Rs\")\n",
        "print(\"---------------------------------------------\")\n",
        "\n",
        "record[ui_pr]['Qn'] = record[ui_pr]['Qn'] - ui_qn\n",
        "\n",
        "js = json.dumps(record)\n",
        "\n",
        "fd = open('Record.json','w')\n",
        "fd.write(js)\n",
        "fd.close()\n",
        "\n",
        "print('')\n",
        "print(\"---------------------------------------------\")\n",
        "print(\"  Thanks for your order, Inventory Updated!  \")\n",
        "print(\"---------------------------------------------\")\n",
        "\n"
      ],
      "metadata": {
        "colab": {
          "base_uri": "https://localhost:8080/"
        },
        "id": "0qWotR-jpYO-",
        "outputId": "42398741-815c-43a5-bb0c-9d60fc1c5774"
      },
      "execution_count": 29,
      "outputs": [
        {
          "output_type": "stream",
          "name": "stdout",
          "text": [
            "--------------------MENU---------------------\n",
            "1001 5 Star 10 5 Star\n",
            "1002 Bar-One 20 Bar-One\n",
            "1003 Candy 2 Candy\n",
            "1004 Chocolate Cake 550 Chocolate Cake\n",
            "1005 Blueberry Cake 650 Blueberry Cake\n",
            "---------------------------------------------\n",
            "\n",
            "Enter product ID : 1005\n",
            "Enter Quantiry   : 2\n",
            "---------------------------------------------\n",
            "\n",
            "Name      :  Blueberry Cake\n",
            "Price (Rs):  650\n",
            "Quantity  :  2\n",
            "---------------------------------------------\n",
            "Billing   :  1300 Rs\n",
            "---------------------------------------------\n",
            "\n",
            "---------------------------------------------\n",
            "  Thanks for your order, Inventory Updated!  \n",
            "---------------------------------------------\n"
          ]
        }
      ]
    },
    {
      "cell_type": "code",
      "source": [
        "type(record)"
      ],
      "metadata": {
        "colab": {
          "base_uri": "https://localhost:8080/"
        },
        "id": "TbI_EF_jquO2",
        "outputId": "286b134a-19f4-4b7e-f9c0-a3080e623c9b"
      },
      "execution_count": 30,
      "outputs": [
        {
          "output_type": "execute_result",
          "data": {
            "text/plain": [
              "dict"
            ]
          },
          "metadata": {},
          "execution_count": 30
        }
      ]
    },
    {
      "cell_type": "code",
      "source": [
        "js"
      ],
      "metadata": {
        "colab": {
          "base_uri": "https://localhost:8080/",
          "height": 53
        },
        "id": "MolQjPSBqyGe",
        "outputId": "4ebfd6ea-655b-4ec3-d5e3-f6b319e8ec40"
      },
      "execution_count": 31,
      "outputs": [
        {
          "output_type": "execute_result",
          "data": {
            "text/plain": [
              "'{\"1001\": {\"Name\": \"5 Star\", \"Price\": 10, \"Qn\": 200}, \"1002\": {\"Name\": \"Bar-One\", \"Price\": 20, \"Qn\": 100}, \"1003\": {\"Name\": \"Candy\", \"Price\": 2, \"Qn\": 1000}, \"1004\": {\"Name\": \"Chocolate Cake\", \"Price\": 550, \"Qn\": 8}, \"1005\": {\"Name\": \"Blueberry Cake\", \"Price\": 650, \"Qn\": 3}}'"
            ],
            "application/vnd.google.colaboratory.intrinsic+json": {
              "type": "string"
            }
          },
          "metadata": {},
          "execution_count": 31
        }
      ]
    },
    {
      "cell_type": "code",
      "source": [
        "type(js)"
      ],
      "metadata": {
        "colab": {
          "base_uri": "https://localhost:8080/"
        },
        "id": "5F-tySCEq195",
        "outputId": "2bf849a3-1939-413a-fdda-3842dba4dfd3"
      },
      "execution_count": 32,
      "outputs": [
        {
          "output_type": "execute_result",
          "data": {
            "text/plain": [
              "str"
            ]
          },
          "metadata": {},
          "execution_count": 32
        }
      ]
    },
    {
      "cell_type": "markdown",
      "source": [
        "Inventory Management System - Loading Record from JSON\n"
      ],
      "metadata": {
        "id": "e-zbjEgNrE4k"
      }
    },
    {
      "cell_type": "code",
      "source": [
        "import json\n",
        "\n",
        "fd = open('Record.json','r')\n",
        "js = fd.read()\n",
        "fd.close()\n",
        "\n",
        "record = json.loads(js)\n",
        "\n",
        "print(\"--------------------MENU---------------------\")\n",
        "for key in record.keys():\n",
        "    print(key, record[key]['Name'], record[key]['Price'], record[key]['Qn'])\n",
        "print(\"---------------------------------------------\")\n",
        "print('')\n",
        "\n",
        "ui_pr = str(input(\"Enter product ID : \"))\n",
        "ui_qn = int(input(\"Enter Quantiry   : \"))\n",
        "\n",
        "print(\"---------------------------------------------\")\n",
        "print('')\n",
        "\n",
        "\n",
        "print(\"Name      : \", record[ui_pr][\"Name\"])\n",
        "print(\"Price (Rs): \", record[ui_pr][\"Price\"])\n",
        "print(\"Quantity  : \", ui_qn)\n",
        "print(\"---------------------------------------------\")\n",
        "print(\"Billing   : \", ui_qn * record[ui_pr][\"Price\"], \"Rs\")\n",
        "print(\"---------------------------------------------\")\n",
        "\n",
        "record[ui_pr]['Qn'] = record[ui_pr]['Qn'] - ui_qn\n",
        "\n",
        "js = json.dumps(record)\n",
        "\n",
        "fd = open('Record.json','w')\n",
        "fd.write(js)\n",
        "fd.close()\n",
        "\n",
        "print('')\n",
        "print(\"---------------------------------------------\")\n",
        "print(\"  Thanks for your order, Inventory Updated!  \")\n",
        "print(\"---------------------------------------------\")\n"
      ],
      "metadata": {
        "colab": {
          "base_uri": "https://localhost:8080/"
        },
        "id": "hDk_z8e1rGDZ",
        "outputId": "d2ee7735-b882-419f-f30b-56ce1017f605"
      },
      "execution_count": 33,
      "outputs": [
        {
          "output_type": "stream",
          "name": "stdout",
          "text": [
            "--------------------MENU---------------------\n",
            "1001 5 Star 10 200\n",
            "1002 Bar-One 20 100\n",
            "1003 Candy 2 1000\n",
            "1004 Chocolate Cake 550 8\n",
            "1005 Blueberry Cake 650 3\n",
            "---------------------------------------------\n",
            "\n",
            "Enter product ID : 1005\n",
            "Enter Quantiry   : 5\n",
            "---------------------------------------------\n",
            "\n",
            "Name      :  Blueberry Cake\n",
            "Price (Rs):  650\n",
            "Quantity  :  5\n",
            "---------------------------------------------\n",
            "Billing   :  3250 Rs\n",
            "---------------------------------------------\n",
            "\n",
            "---------------------------------------------\n",
            "  Thanks for your order, Inventory Updated!  \n",
            "---------------------------------------------\n"
          ]
        }
      ]
    },
    {
      "cell_type": "code",
      "source": [
        "record"
      ],
      "metadata": {
        "colab": {
          "base_uri": "https://localhost:8080/"
        },
        "id": "JdnqsaZurEhn",
        "outputId": "1de88e9b-3b19-418d-ee95-97e4163a95e2"
      },
      "execution_count": 34,
      "outputs": [
        {
          "output_type": "execute_result",
          "data": {
            "text/plain": [
              "{'1001': {'Name': '5 Star', 'Price': 10, 'Qn': 200},\n",
              " '1002': {'Name': 'Bar-One', 'Price': 20, 'Qn': 100},\n",
              " '1003': {'Name': 'Candy', 'Price': 2, 'Qn': 1000},\n",
              " '1004': {'Name': 'Chocolate Cake', 'Price': 550, 'Qn': 8},\n",
              " '1005': {'Name': 'Blueberry Cake', 'Price': 650, 'Qn': -2}}"
            ]
          },
          "metadata": {},
          "execution_count": 34
        }
      ]
    },
    {
      "cell_type": "markdown",
      "source": [
        "Inventory Management System JSON - Adding Functionalities"
      ],
      "metadata": {
        "id": "ZRMaHBjVrxNJ"
      }
    },
    {
      "cell_type": "code",
      "source": [
        "import json\n",
        "\n",
        "ch = 'Y'\n",
        "fd = open('Record.json','r')\n",
        "js = fd.read()\n",
        "fd.close()\n",
        "\n",
        "record = json.loads(js)\n",
        "\n",
        "print(\"--------------------MENU---------------------\")\n",
        "for key in record.keys():\n",
        "    print(key, record[key]['Name'], record[key]['Price'], record[key]['Qn'])\n",
        "print(\"---------------------------------------------\")\n",
        "print('')\n",
        "\n",
        "ui_pr = str(input(\"Enter product ID : \"))\n",
        "ui_qn = int(input(\"Enter Quantiry   : \"))\n",
        "\n",
        "print(\"---------------------------------------------\")\n",
        "print('')\n",
        "\n",
        "if (record[ui_pr]['Qn'] >= ui_qn):\n",
        "\n",
        "    print(\"Name      : \", record[ui_pr][\"Name\"])\n",
        "    print(\"Price (Rs): \", record[ui_pr][\"Price\"])\n",
        "    print(\"Quantity  : \", ui_qn)\n",
        "    print(\"---------------------------------------------\")\n",
        "    print(\"Billing   : \", ui_qn * record[ui_pr][\"Price\"], \"Rs\")\n",
        "    print(\"---------------------------------------------\")\n",
        "\n",
        "    record[ui_pr]['Qn'] = record[ui_pr]['Qn'] - ui_qn\n",
        "\n",
        "else:\n",
        "\n",
        "    print(\"Sorry, We're not having enough quanity of product in our Inventory.\")\n",
        "    print(\"We're only having \" + str(record[ui_pr]['Qn']) + \" quantity.\")\n",
        "    print(\"---------------------------------------------\")\n",
        "\n",
        "    ch == str(input(\"Press Y to purchase: \"))\n",
        "\n",
        "    if(ch == \"Y\" or ch == 'y'):\n",
        "\n",
        "        print(\"---------------------------------------------\")\n",
        "        print(\"Name      : \", record[ui_pr][\"Name\"])\n",
        "        print(\"Price (Rs): \", record[ui_pr][\"Price\"])\n",
        "        print(\"Quantity  : \", record[ui_pr]['Qn'])\n",
        "        print(\"---------------------------------------------\")\n",
        "        print(\"Billing   : \", record[ui_pr]['Qn'] * record[ui_pr][\"Price\"], \"Rs\")\n",
        "        print(\"---------------------------------------------\")\n",
        "\n",
        "        record[ui_pr]['Qn'] = 0\n",
        "\n",
        "    else:\n",
        "        print(\"Thanks!\")\n",
        "\n",
        "js = json.dumps(record)\n",
        "\n",
        "fd = open('Record.json','w')\n",
        "fd.write(js)\n",
        "fd.close()\n",
        "\n",
        "print('')\n",
        "print(\"---------------------------------------------\")\n",
        "print(\"  Thanks for your order, Inventory Updated!  \")\n",
        "print(\"---------------------------------------------\")"
      ],
      "metadata": {
        "colab": {
          "base_uri": "https://localhost:8080/"
        },
        "id": "pUoKMwblryWR",
        "outputId": "5ed710c2-517e-414a-d517-1580cc8455fd"
      },
      "execution_count": 36,
      "outputs": [
        {
          "output_type": "stream",
          "name": "stdout",
          "text": [
            "--------------------MENU---------------------\n",
            "1001 5 Star 10 200\n",
            "1002 Bar-One 20 100\n",
            "1003 Candy 2 1000\n",
            "1004 Chocolate Cake 550 8\n",
            "1005 Blueberry Cake 650 -2\n",
            "---------------------------------------------\n",
            "\n",
            "Enter product ID : 1004\n",
            "Enter Quantiry   : 10\n",
            "---------------------------------------------\n",
            "\n",
            "Sorry, We're not having enough quanity of product in our Inventory.\n",
            "We're only having 8 quantity.\n",
            "---------------------------------------------\n",
            "Press Y to purchase: y\n",
            "---------------------------------------------\n",
            "Name      :  Chocolate Cake\n",
            "Price (Rs):  550\n",
            "Quantity  :  8\n",
            "---------------------------------------------\n",
            "Billing   :  4400 Rs\n",
            "---------------------------------------------\n",
            "\n",
            "---------------------------------------------\n",
            "  Thanks for your order, Inventory Updated!  \n",
            "---------------------------------------------\n"
          ]
        }
      ]
    },
    {
      "cell_type": "code",
      "source": [
        "record"
      ],
      "metadata": {
        "colab": {
          "base_uri": "https://localhost:8080/"
        },
        "id": "MK-Iy2arteav",
        "outputId": "dc341a21-83f8-452f-a440-311f55eac7dc"
      },
      "execution_count": 37,
      "outputs": [
        {
          "output_type": "execute_result",
          "data": {
            "text/plain": [
              "{'1001': {'Name': '5 Star', 'Price': 10, 'Qn': 200},\n",
              " '1002': {'Name': 'Bar-One', 'Price': 20, 'Qn': 100},\n",
              " '1003': {'Name': 'Candy', 'Price': 2, 'Qn': 1000},\n",
              " '1004': {'Name': 'Chocolate Cake', 'Price': 550, 'Qn': 0},\n",
              " '1005': {'Name': 'Blueberry Cake', 'Price': 650, 'Qn': -2}}"
            ]
          },
          "metadata": {},
          "execution_count": 37
        }
      ]
    },
    {
      "cell_type": "markdown",
      "source": [
        "Generating Sales Structure"
      ],
      "metadata": {
        "id": "kpNXWpyct0uH"
      }
    },
    {
      "cell_type": "code",
      "source": [
        "import json\n",
        "import time\n",
        "ch = 'Y'\n",
        "fd = open('Record.json','r')\n",
        "js = fd.read()\n",
        "fd.close()\n",
        "\n",
        "record = json.loads(js)\n",
        "\n",
        "print(\"--------------------MENU---------------------\")\n",
        "for key in record.keys():\n",
        "    print(key, record[key]['Name'], record[key]['Price'], record[key]['Qn'])\n",
        "print(\"---------------------------------------------\")\n",
        "print('')\n",
        "\n",
        "\n",
        "ui_name = str(input(\"Enter your name    : \"))\n",
        "ui_mail = str(input(\"Enter Mail ID      : \"))\n",
        "ui_ph   = str(input(\"Enter Phone No     :  \"))\n",
        "ui_pr   = str(input(\"Enter product ID   : \"))\n",
        "ui_qn   = int(input(\"Enter Quantity     : \"))\n",
        "\n",
        "print(\"---------------------------------------------\")\n",
        "print('')\n",
        "\n",
        "\n",
        "if (record[ui_pr]['Qn'] >= ui_qn):\n",
        "\n",
        "    print(\"Name      : \", record[ui_pr][\"Name\"])\n",
        "    print(\"Price (Rs): \", record[ui_pr][\"Price\"])\n",
        "    print(\"Quantity  : \", ui_qn)\n",
        "    print(\"---------------------------------------------\")\n",
        "    print(\"Billing   : \", ui_qn * record[ui_pr][\"Price\"], \"Rs\")\n",
        "    print(\"---------------------------------------------\")\n",
        "\n",
        "    record[ui_pr]['Qn'] = record[ui_pr]['Qn'] - ui_qn\n",
        "\n",
        "    sale = '1'+\",\"+ui_name+\",\"+ui_mail+\",\"+ui_ph+\",\"+ui_pr+\",\"+record[ui_pr][\"Name\"]+\",\"+str(ui_qn)+\",\"+str(record[ui_pr][\"Price\"])+\",\"+str(ui_qn * record[ui_pr][\"Price\"])+\",\"+time.ctime()\n",
        "\n",
        "else:\n",
        "\n",
        "    print(\"Sorry, We're not having enough quanity of product in our Inventory.\")\n",
        "    print(\"We're only having \" + str(record[ui_pr]['Qn']) + \" quantity.\")\n",
        "    print(\"---------------------------------------------\")\n",
        "\n",
        "    ch == str(input(\"Press Y to purchase: \"))\n",
        "\n",
        "    if(ch == \"Y\" or ch == 'y'):\n",
        "\n",
        "        print(\"---------------------------------------------\")\n",
        "        print(\"Name      : \", record[ui_pr][\"Name\"])\n",
        "        print(\"Price (Rs): \", record[ui_pr][\"Price\"])\n",
        "        print(\"Quantity  : \", record[ui_pr]['Qn'])\n",
        "        print(\"---------------------------------------------\")\n",
        "        print(\"Billing   : \", record[ui_pr]['Qn'] * record[ui_pr][\"Price\"], \"Rs\")\n",
        "        print(\"---------------------------------------------\")\n",
        "\n",
        "        record[ui_pr]['Qn'] = 0\n",
        "\n",
        "        sale = '1'+\",\"+ui_name+\",\"+ui_mail+\",\"+ui_ph+\",\"+ui_pr+\",\"+record[ui_pr][\"Name\"]+\",\"+str(record[ui_pr]['Qn'])+\",\"+str(record[ui_pr][\"Price\"])+\",\"+str(record[ui_pr]['Qn'] * record[ui_pr][\"Price\"])+\",\"+time.ctime()\n",
        "\n",
        "    else:\n",
        "\n",
        "      print(\"Sorry, We're not having enough quanity of product in our Inventory.\")\n",
        "    print(\"We're only having \" + str(record[ui_pr]['Qn']) + \" quantity.\")\n",
        "    print(\"---------------------------------------------\")\n",
        "\n",
        "    ch == str(input(\"Press Y to purchase: \"))\n",
        "\n",
        "    if(ch == \"Y\" or ch == 'y'):\n",
        "\n",
        "        print(\"---------------------------------------------\")\n",
        "        print(\"Name      : \", record[ui_pr][\"Name\"])\n",
        "        print(\"Price (Rs): \", record[ui_pr][\"Price\"])\n",
        "        print(\"Quantity  : \", record[ui_pr]['Qn'])\n",
        "        print(\"---------------------------------------------\")\n",
        "        print(\"Billing   : \", record[ui_pr]['Qn'] * record[ui_pr][\"Price\"], \"Rs\")\n",
        "        print(\"---------------------------------------------\")\n",
        "\n",
        "        record[ui_pr]['Qn'] = 0\n",
        "\n",
        "        sale = '1'+\",\"+ui_name+\",\"+ui_mail+\",\"+ui_ph+\",\"+ui_pr+\",\"+record[ui_pr][\"Name\"]+\",\"+str(record[ui_pr]['Qn'])+\",\"+str(record[ui_pr][\"Price\"])+\",\"+str(record[ui_pr]['Qn'] * record[ui_pr][\"Price\"])+\",\"+time.ctime()\n",
        "\n",
        "    else:\n",
        "        print(\"Thanks!\")\n",
        "\n",
        "js = json.dumps(record)\n",
        "\n",
        "fd = open('Record.json','w')\n",
        "fd.write(js)\n",
        "fd.close()\n",
        "\n",
        "print('')\n",
        "print(\"---------------------------------------------\")\n",
        "print(\"  Thanks for your order, Inventory Updated!  \")\n",
        "print(\"---------------------------------------------\")\n",
        "\n",
        "\n",
        "\n"
      ],
      "metadata": {
        "colab": {
          "base_uri": "https://localhost:8080/"
        },
        "id": "6qSlq5jat1WZ",
        "outputId": "e9bb3f45-146e-4797-debc-dbc3351a05c0"
      },
      "execution_count": 42,
      "outputs": [
        {
          "output_type": "stream",
          "name": "stdout",
          "text": [
            "--------------------MENU---------------------\n",
            "1001 5 Star 10 200\n",
            "1002 Bar-One 20 100\n",
            "1003 Candy 2 1000\n",
            "1004 Chocolate Cake 550 0\n",
            "1005 Blueberry Cake 650 -2\n",
            "---------------------------------------------\n",
            "\n",
            "Enter your name    : ashish\n",
            "Enter Mail ID      : ashish2939@gmail.com\n",
            "Enter Phone No     :  2989839\n",
            "Enter product ID   : 1004\n",
            "Enter Quantity     : 3\n",
            "---------------------------------------------\n",
            "\n",
            "Sorry, We're not having enough quanity of product in our Inventory.\n",
            "We're only having 0 quantity.\n",
            "---------------------------------------------\n",
            "Press Y to purchase: y\n",
            "---------------------------------------------\n",
            "Name      :  Chocolate Cake\n",
            "Price (Rs):  550\n",
            "Quantity  :  0\n",
            "---------------------------------------------\n",
            "Billing   :  0 Rs\n",
            "---------------------------------------------\n",
            "We're only having 0 quantity.\n",
            "---------------------------------------------\n",
            "Press Y to purchase: y\n",
            "---------------------------------------------\n",
            "Name      :  Chocolate Cake\n",
            "Price (Rs):  550\n",
            "Quantity  :  0\n",
            "---------------------------------------------\n",
            "Billing   :  0 Rs\n",
            "---------------------------------------------\n",
            "\n",
            "---------------------------------------------\n",
            "  Thanks for your order, Inventory Updated!  \n",
            "---------------------------------------------\n"
          ]
        }
      ]
    },
    {
      "cell_type": "code",
      "source": [
        "sale"
      ],
      "metadata": {
        "colab": {
          "base_uri": "https://localhost:8080/",
          "height": 36
        },
        "id": "47zNc4Tst9g_",
        "outputId": "4d73947e-5717-4dcb-d364-c141523e620f"
      },
      "execution_count": 43,
      "outputs": [
        {
          "output_type": "execute_result",
          "data": {
            "text/plain": [
              "'1,ashish,ashish2939@gmail.com,2989839,1004,Chocolate Cake,0,550,0,Wed Aug 23 23:37:24 2023'"
            ],
            "application/vnd.google.colaboratory.intrinsic+json": {
              "type": "string"
            }
          },
          "metadata": {},
          "execution_count": 43
        }
      ]
    },
    {
      "cell_type": "code",
      "source": [
        "time.ctime()"
      ],
      "metadata": {
        "colab": {
          "base_uri": "https://localhost:8080/",
          "height": 36
        },
        "id": "XkftDgu3wyfs",
        "outputId": "db1cad74-d0a4-414d-ef5e-2d6ddefd03c1"
      },
      "execution_count": 44,
      "outputs": [
        {
          "output_type": "execute_result",
          "data": {
            "text/plain": [
              "'Wed Aug 23 23:38:17 2023'"
            ],
            "application/vnd.google.colaboratory.intrinsic+json": {
              "type": "string"
            }
          },
          "metadata": {},
          "execution_count": 44
        }
      ]
    },
    {
      "cell_type": "markdown",
      "source": [
        "Generating Sales file"
      ],
      "metadata": {
        "id": "qoEqWNO6xBHF"
      }
    },
    {
      "cell_type": "code",
      "source": [],
      "metadata": {
        "id": "qSn5zuiGzAav"
      },
      "execution_count": null,
      "outputs": []
    },
    {
      "cell_type": "code",
      "source": [
        "import json\n",
        "import time  # Don't forget to import the 'time' module\n",
        "\n",
        "ch = 'Y'\n",
        "fd = open('Record.json', 'r')\n",
        "js = fd.read()\n",
        "fd.close()\n",
        "\n",
        "record = json.loads(js)\n",
        "\n",
        "print(\"--------------------MENU---------------------\")\n",
        "for key in record.keys():\n",
        "    print(key, record[key]['Name'], record[key]['Price'], record[key]['Qn'])\n",
        "print(\"---------------------------------------------\")\n",
        "print('')\n",
        "\n",
        "ui_name = input(\"Enter your name    : \")  # Use input() instead of raw_input() in Python 3\n",
        "ui_mail = input(\"Enter Mail ID      : \")\n",
        "ui_ph = input(\"Enter Phone No     : \")\n",
        "ui_pr = input(\"Enter product ID   : \")\n",
        "ui_qn = int(input(\"Enter Quantity     : \"))  # Convert input to int\n",
        "\n",
        "print(\"---------------------------------------------\")\n",
        "print('')\n",
        "\n",
        "if record.get(ui_pr) is not None and record[ui_pr]['Qn'] >= ui_qn:  # Check if product exists and has enough quantity\n",
        "\n",
        "    print(\"Name      : \", record[ui_pr][\"Name\"])\n",
        "    print(\"Price (Rs): \", record[ui_pr][\"Price\"])\n",
        "    print(\"Quantity  : \", ui_qn)\n",
        "    print(\"---------------------------------------------\")\n",
        "    print(\"Billing   : \", ui_qn * record[ui_pr][\"Price\"], \"Rs\")\n",
        "    print(\"---------------------------------------------\")\n",
        "\n",
        "    record[ui_pr]['Qn'] -= ui_qn  # Update product quantity\n",
        "\n",
        "    sale = ui_name + \",\" + ui_mail + \",\" + ui_ph + \",\" + ui_pr + \",\" + record[ui_pr][\"Name\"] + \",\" + str(ui_qn) + \",\" + str(record[ui_pr][\"Price\"]) + \",\" + str(ui_qn * record[ui_pr][\"Price\"]) + \",\" + time.ctime() + \"\\n\"\n",
        "\n",
        "else:\n",
        "\n",
        "    print(\"Sorry, We don't have enough quantity of the product in our Inventory.\")\n",
        "    print(\"We only have \" + str(record[ui_pr]['Qn']) + \" quantity.\")\n",
        "    print(\"---------------------------------------------\")\n",
        "\n",
        "    ch = input(\"Press Y to purchase: \")  # Use input() instead of raw_input() in Python 3\n",
        "\n",
        "    if ch == \"Y\" or ch == 'y':\n",
        "\n",
        "        print(\"---------------------------------------------\")\n",
        "        print(\"Name      : \", record[ui_pr][\"Name\"])\n",
        "        print(\"Price (Rs): \", record[ui_pr][\"Price\"])\n",
        "        print(\"Quantity  : \", record[ui_pr]['Qn'])\n",
        "        print(\"---------------------------------------------\")\n",
        "        print(\"Billing   : \", record[ui_pr]['Qn'] * record[ui_pr][\"Price\"], \"Rs\")\n",
        "        print(\"---------------------------------------------\")\n",
        "\n",
        "        record[ui_pr]['Qn'] = 0\n",
        "\n",
        "        sale = ui_name + \",\" + ui_mail + \",\" + ui_ph + \",\" + ui_pr + \",\" + record[ui_pr][\"Name\"] + \",\" + str(record[ui_pr]['Qn']) + \",\" + str(record[ui_pr][\"Price\"]) + \",\" + str(record[ui_pr]['Qn'] * record[ui_pr][\"Price\"]) + \",\" + time.ctime() + \"\\n\"\n",
        "    else:\n",
        "        print(\"Thanks!\")\n",
        "\n",
        "js = json.dumps(record)\n",
        "\n",
        "fd = open('Record.json', 'w')\n",
        "fd.write(js)\n",
        "fd.close()\n",
        "\n",
        "fd = open('Sales (3).txt', 'a')\n",
        "fd.write(sale)\n",
        "fd.close()\n",
        "\n",
        "print('')\n",
        "print(\"---------------------------------------------\")\n",
        "print(\"  Thanks for your order, Inventory Updated!  \")\n",
        "print(\"---------------------------------------------\")\n"
      ],
      "metadata": {
        "colab": {
          "base_uri": "https://localhost:8080/"
        },
        "id": "OnavKtQWyp9_",
        "outputId": "3fac939f-a367-4d68-d71f-dbc964778a46"
      },
      "execution_count": 45,
      "outputs": [
        {
          "output_type": "stream",
          "name": "stdout",
          "text": [
            "--------------------MENU---------------------\n",
            "1001 5 Star 10 200\n",
            "1002 Bar-One 20 100\n",
            "1003 Candy 2 1000\n",
            "1004 Chocolate Cake 550 0\n",
            "1005 Blueberry Cake 650 -2\n",
            "---------------------------------------------\n",
            "\n",
            "Enter your name    : ashish\n",
            "Enter Mail ID      : 1004\n",
            "Enter Phone No     : 3\n",
            "Enter product ID   : 1001\n",
            "Enter Quantity     : 3\n",
            "---------------------------------------------\n",
            "\n",
            "Name      :  5 Star\n",
            "Price (Rs):  10\n",
            "Quantity  :  3\n",
            "---------------------------------------------\n",
            "Billing   :  30 Rs\n",
            "---------------------------------------------\n",
            "\n",
            "---------------------------------------------\n",
            "  Thanks for your order, Inventory Updated!  \n",
            "---------------------------------------------\n"
          ]
        }
      ]
    },
    {
      "cell_type": "markdown",
      "source": [
        "conclusion"
      ],
      "metadata": {
        "id": "oltigNAFzdCo"
      }
    },
    {
      "cell_type": "code",
      "source": [
        "import json\n",
        "import time\n",
        "\n",
        "# Importing Inventory data from Record.json file\n",
        "fd = open('Record.json','r')\n",
        "js = fd.read()\n",
        "fd.close()\n",
        "\n",
        "# Converting String data to Dictionary\n",
        "record = json.loads(js)\n",
        "\n",
        "# Displaying Menu\n",
        "print(\"--------------------MENU---------------------\")\n",
        "for key in record.keys():\n",
        "    print(key, record[key]['Name'], record[key]['Price'], record[key]['Qn'])\n",
        "print(\"---------------------------------------------\")\n",
        "print('')\n",
        "\n",
        "# Taking Inputs from the user about their details and purchase\n",
        "ui_name = str(input(\"Enter your name    : \"))\n",
        "ui_mail = str(input(\"Enter Mail ID      : \"))\n",
        "ui_ph   = str(input(\"Enter Phone No     : \"))\n",
        "ui_pr   = str(input(\"Enter product ID   : \"))\n",
        "ui_qn   = int(input(\"Enter Quantity     : \"))\n",
        "\n",
        "print(\"---------------------------------------------\")\n",
        "print('')\n",
        "\n",
        "# If we're having equal or more quantity then the user wants\n",
        "if (record[ui_pr]['Qn'] >= ui_qn):\n",
        "\n",
        "    print(\"Name      : \", record[ui_pr][\"Name\"])\n",
        "    print(\"Price (Rs): \", record[ui_pr][\"Price\"])\n",
        "    print(\"Quantity  : \", ui_qn)\n",
        "    print(\"---------------------------------------------\")\n",
        "    print(\"Billing   : \", ui_qn * record[ui_pr][\"Price\"], \"Rs\")\n",
        "    print(\"---------------------------------------------\")\n",
        "\n",
        "    # Updating Inventory in Dictionary\n",
        "    record[ui_pr]['Qn'] = record[ui_pr]['Qn'] - ui_qn\n",
        "\n",
        "    # Generating CSV Transection Detail\n",
        "    sale = ui_name+\",\"+ui_mail+\",\"+ui_ph+\",\"+ui_pr+\",\"+record[ui_pr][\"Name\"]+\",\"+str(ui_qn)+\",\"+str(record[ui_pr][\"Price\"])+\",\"+str(ui_qn * record[ui_pr][\"Price\"])+\",\"+time.ctime()+\"\\n\"\n",
        "\n",
        "# If we're less quantity then the user wants\n",
        "else:\n",
        "\n",
        "    print(\"Sorry, We're not having enough quanity of product in our Inventory.\")\n",
        "    print(\"We're only having \" + str(record[ui_pr]['Qn']) + \" quantity.\")\n",
        "    print(\"---------------------------------------------\")\n",
        "\n",
        "    ch == str(input(\"Press Y to purchase: \"))\n",
        "\n",
        "    # If user wants to purchase the whole quantity for that product\n",
        "    if(ch == \"Y\" or ch == 'y'):\n",
        "\n",
        "        print(\"---------------------------------------------\")\n",
        "        print(\"Name      : \", record[ui_pr][\"Name\"])\n",
        "        print(\"Price (Rs): \", record[ui_pr][\"Price\"])\n",
        "        print(\"Quantity  : \", record[ui_pr]['Qn'])\n",
        "        print(\"---------------------------------------------\")\n",
        "        print(\"Billing   : \", record[ui_pr]['Qn'] * record[ui_pr][\"Price\"], \"Rs\")\n",
        "        print(\"---------------------------------------------\")\n",
        "\n",
        "        # Updating Inventory in Dictionary\n",
        "        record[ui_pr]['Qn'] = 0\n",
        "\n",
        "        # Generating CSV Transection Detail\n",
        "        sale = ui_name+\",\"+ui_mail+\",\"+ui_ph+\",\"+ui_pr+\",\"+record[ui_pr][\"Name\"]+\",\"+str(record[ui_pr]['Qn'])+\",\"+str(record[ui_pr][\"Price\"])+\",\"+str(record[ui_pr]['Qn'] * record[ui_pr][\"Price\"])+\",\"+time.ctime()+\"\\n\"\n",
        "\n",
        "    # If user pressed anything except Y or y\n",
        "    else:\n",
        "        print(\"Thanks!\")\n",
        "\n",
        "# Converting Inventory Dictionary to String\n",
        "js = json.dumps(record)\n",
        "\n",
        "# Updating Inventory and Saving in to my Records.json\n",
        "fd = open('Record.json','w')\n",
        "fd.write(js)\n",
        "fd.close()\n",
        "\n",
        "# Adding Transection on Sales File\n",
        "fd = open('Sales (3).txt','a')\n",
        "fd.write(sale)\n",
        "fd.close()\n",
        "\n",
        "print('')\n",
        "print(\"---------------------------------------------\")\n",
        "print(\"  Thanks for your order, Inventory Updated!  \")\n",
        "print(\"---------------------------------------------\")"
      ],
      "metadata": {
        "colab": {
          "base_uri": "https://localhost:8080/"
        },
        "id": "AiKRWUbAzfJw",
        "outputId": "6f4866fc-4dd7-4ae9-9527-db2f72bc72a2"
      },
      "execution_count": 47,
      "outputs": [
        {
          "output_type": "stream",
          "name": "stdout",
          "text": [
            "--------------------MENU---------------------\n",
            "1001 5 Star 10 197\n",
            "1002 Bar-One 20 100\n",
            "1003 Candy 2 1000\n",
            "1004 Chocolate Cake 550 0\n",
            "1005 Blueberry Cake 650 -2\n",
            "---------------------------------------------\n",
            "\n",
            "Enter your name    : shivam\n",
            "Enter Mail ID      : shiv200292!@gmail.com\n",
            "Enter Phone No     : 8983039\n",
            "Enter product ID   : 1003\n",
            "Enter Quantity     : 2\n",
            "---------------------------------------------\n",
            "\n",
            "Name      :  Candy\n",
            "Price (Rs):  2\n",
            "Quantity  :  2\n",
            "---------------------------------------------\n",
            "Billing   :  4 Rs\n",
            "---------------------------------------------\n",
            "\n",
            "---------------------------------------------\n",
            "  Thanks for your order, Inventory Updated!  \n",
            "---------------------------------------------\n"
          ]
        }
      ]
    }
  ]
}